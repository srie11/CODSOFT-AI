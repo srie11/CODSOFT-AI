{
 "cells": [
  {
   "cell_type": "code",
   "execution_count": 28,
   "id": "28a912d4-bfec-4a6c-bbd7-89cf8189156d",
   "metadata": {},
   "outputs": [],
   "source": [
    "import pandas as pd\n",
    "import numpy as np\n",
    "from sklearn.metrics.pairwise import cosine_similarity\n",
    "\n",
    "ratings_df = pd.read_csv('ratings.csv')\n",
    "\n",
    "#Ratings.csv file is a random sample data of 10 users rating 5 different movies with movie IDs from 101-105. \n",
    "\n",
    "user_item_matrix = ratings_df.pivot_table(index='userId', columns='movieId', values='rating').fillna(0)\n",
    "user_similarity = cosine_similarity(user_item_matrix)"
   ]
  },
  {
   "cell_type": "code",
   "execution_count": 29,
   "id": "55f75ae3-92d3-4581-a05e-f804bc142bcf",
   "metadata": {},
   "outputs": [],
   "source": [
    "def generate_collaborative_recommendations(user_id, num_recommendations=5):\n",
    "    # Find similar users\n",
    "    similar_users = user_similarity[user_id].argsort()[::-1][1:] \n",
    "\n",
    "    user_ratings = user_item_matrix.loc[user_id]\n",
    "    unrated_movies = user_ratings[user_ratings == 0].index\n",
    "\n",
    "    avg_ratings = user_item_matrix.iloc[similar_users].mean()\n",
    "    collaborative_recommendations = avg_ratings[unrated_movies].sort_values(ascending=False).head(num_recommendations)\n",
    "    return collaborative_recommendations"
   ]
  },
  {
   "cell_type": "code",
   "execution_count": 30,
   "id": "e64f2be4-fbcc-4f30-bbb6-1a422032b6cf",
   "metadata": {},
   "outputs": [
    {
     "name": "stdin",
     "output_type": "stream",
     "text": [
      "\n",
      "Enter the user ID for recommendations (or type 'end' to quit):  1\n"
     ]
    },
    {
     "name": "stdout",
     "output_type": "stream",
     "text": [
      "\n",
      "Recommendations for User 1 :\n",
      "\n",
      "movieId\n",
      "104    1.888889\n"
     ]
    },
    {
     "name": "stdin",
     "output_type": "stream",
     "text": [
      "\n",
      "Enter the user ID for recommendations (or type 'end' to quit):  4\n"
     ]
    },
    {
     "name": "stdout",
     "output_type": "stream",
     "text": [
      "\n",
      "Recommendations for User 4 :\n",
      "\n",
      "movieId\n",
      "103    2.111111\n"
     ]
    },
    {
     "name": "stdin",
     "output_type": "stream",
     "text": [
      "\n",
      "Enter the user ID for recommendations (or type 'end' to quit):  9\n"
     ]
    },
    {
     "name": "stdout",
     "output_type": "stream",
     "text": [
      "\n",
      "Recommendations for User 9 :\n",
      "\n",
      "movieId\n",
      "102    2.444444\n",
      "103    2.111111\n"
     ]
    },
    {
     "name": "stdin",
     "output_type": "stream",
     "text": [
      "\n",
      "Enter the user ID for recommendations (or type 'end' to quit):  6\n"
     ]
    },
    {
     "name": "stdout",
     "output_type": "stream",
     "text": [
      "\n",
      "Recommendations for User 6 :\n",
      "\n",
      "movieId\n",
      "104    2.111111\n"
     ]
    },
    {
     "name": "stdin",
     "output_type": "stream",
     "text": [
      "\n",
      "Enter the user ID for recommendations (or type 'end' to quit):  end\n"
     ]
    },
    {
     "name": "stdout",
     "output_type": "stream",
     "text": [
      "\n",
      "Ending recommendation requests.\n"
     ]
    }
   ],
   "source": [
    "def generate_recommendations_for_user(user_id):\n",
    "    print(f\"\\nRecommendations for User {user_id} :\\n\")\n",
    "    collaborative_recommendations = generate_collaborative_recommendations(user_id)\n",
    "    print(collaborative_recommendations.to_string())\n",
    "\n",
    "while True:\n",
    "    user_id_input = input(\"\\nEnter the user ID for recommendations (or type 'end' to quit): \")\n",
    "    \n",
    "    if user_id_input.lower() == 'end':\n",
    "        print(\"\\nEnding recommendation requests.\")\n",
    "        break\n",
    "    \n",
    "    try:\n",
    "        user_id = int(user_id_input)\n",
    "        generate_recommendations_for_user(user_id)\n",
    "    except ValueError:\n",
    "        print(\"Invalid input. Please enter a valid user ID or 'end' to quit.\")"
   ]
  },
  {
   "cell_type": "code",
   "execution_count": null,
   "id": "af11e489-1ca9-44fd-8c15-290503a6ee3a",
   "metadata": {},
   "outputs": [],
   "source": []
  },
  {
   "cell_type": "code",
   "execution_count": null,
   "id": "0ea20116-cfa8-4dcf-bc59-e6500ebecbcb",
   "metadata": {},
   "outputs": [],
   "source": []
  }
 ],
 "metadata": {
  "kernelspec": {
   "display_name": "Python 3 (ipykernel)",
   "language": "python",
   "name": "python3"
  },
  "language_info": {
   "codemirror_mode": {
    "name": "ipython",
    "version": 3
   },
   "file_extension": ".py",
   "mimetype": "text/x-python",
   "name": "python",
   "nbconvert_exporter": "python",
   "pygments_lexer": "ipython3",
   "version": "3.11.4"
  }
 },
 "nbformat": 4,
 "nbformat_minor": 5
}
