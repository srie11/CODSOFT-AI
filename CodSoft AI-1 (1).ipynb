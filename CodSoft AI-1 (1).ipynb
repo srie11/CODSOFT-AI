{
 "cells": [
  {
   "cell_type": "code",
   "execution_count": null,
   "id": "62c9e446-563b-4f80-bb8b-729f15a86b5b",
   "metadata": {},
   "outputs": [
    {
     "name": "stdout",
     "output_type": "stream",
     "text": [
      "Welcome! How can I assist you today?\n"
     ]
    },
    {
     "name": "stdin",
     "output_type": "stream",
     "text": [
      "You:  hi\n"
     ]
    },
    {
     "name": "stdout",
     "output_type": "stream",
     "text": [
      "Chatbot: Hello!\n"
     ]
    },
    {
     "name": "stdin",
     "output_type": "stream",
     "text": [
      "You:  what is the time now?\n"
     ]
    },
    {
     "name": "stdout",
     "output_type": "stream",
     "text": [
      "Chatbot: The current time is 23:25.\n"
     ]
    },
    {
     "name": "stdin",
     "output_type": "stream",
     "text": [
      "You:  what day is today\n"
     ]
    },
    {
     "name": "stdout",
     "output_type": "stream",
     "text": [
      "Chatbot: Today is Tuesday.\n"
     ]
    },
    {
     "name": "stdin",
     "output_type": "stream",
     "text": [
      "You:  thank you\n"
     ]
    },
    {
     "name": "stdout",
     "output_type": "stream",
     "text": [
      "Chatbot: No problem at all!\n"
     ]
    },
    {
     "name": "stdin",
     "output_type": "stream",
     "text": [
      "You:  bye\n"
     ]
    },
    {
     "name": "stdout",
     "output_type": "stream",
     "text": [
      "Chatbot: See you later!\n"
     ]
    }
   ],
   "source": [
    "import random\n",
    "import datetime\n",
    "\n",
    "# Functions for generating responses\n",
    "\n",
    "def greet_user():\n",
    "    greetings = [\"Hello!\", \"Hi there!\", \"Hey, how can I help you?\"]\n",
    "    return random.choice(greetings)\n",
    "\n",
    "def get_weather():\n",
    "    weather_conditions = [\"The weather is nice today.\", \"It's raining outside.\", \"I think it's going to be sunny later.\"]\n",
    "    return random.choice(weather_conditions)\n",
    "\n",
    "def get_current_time():\n",
    "    current_time = datetime.datetime.now().strftime(\"%H:%M\")\n",
    "    return f\"The current time is {current_time}.\"\n",
    "\n",
    "def get_current_day():\n",
    "    current_day = datetime.datetime.now().strftime(\"%A\")\n",
    "    return f\"Today is {current_day}.\"\n",
    "\n",
    "def offer_assistance():\n",
    "    assistance_responses = [\"Sure, I'm here to help!\", \"What do you need assistance with?\", \"How can I assist you today?\"]\n",
    "    return random.choice(assistance_responses)\n",
    "\n",
    "def express_gratitude():\n",
    "    gratitude_responses = [\"You're welcome!\", \"No problem at all!\", \"Glad I could help!\"]\n",
    "    return random.choice(gratitude_responses)\n",
    "\n",
    "def say_goodbye():\n",
    "    goodbye_responses = [\"Goodbye!\", \"See you later!\", \"Have a great day!\"]\n",
    "    return random.choice(goodbye_responses)\n",
    "\n",
    "def respond_to_inquiry():\n",
    "    inquiry_responses = [\"I'm sorry, I'm not sure about that.\", \"I don't have information about that.\", \"Could you please provide more details?\"]\n",
    "    return random.choice(inquiry_responses)\n",
    "\n",
    "def acknowledge_statement():\n",
    "    acknowledgment_responses = [\"Thank you for letting me know!\", \"Got it!\", \"Noted.\"]\n",
    "    return random.choice(acknowledgment_responses)\n",
    "\n",
    "# Function to determine the appropriate response based on user input\n",
    "\n",
    "def get_chatbot_response(user_input):\n",
    "    user_input = user_input.lower()\n",
    "    if 'hello' in user_input or 'hi' in user_input or 'hey' in user_input:\n",
    "        return greet_user()\n",
    "    elif 'weather' in user_input:\n",
    "        return get_weather()\n",
    "    elif 'time' in user_input:\n",
    "        return get_current_time()\n",
    "    elif 'day' in user_input:\n",
    "        return get_current_day()\n",
    "    elif 'help' in user_input or 'assist' in user_input:\n",
    "        return offer_assistance()\n",
    "    elif 'thank' in user_input or 'thanks' in user_input:\n",
    "        return express_gratitude()\n",
    "    elif 'bye' in user_input or 'goodbye' in user_input:\n",
    "        return say_goodbye()\n",
    "    elif '?' in user_input:\n",
    "        return respond_to_inquiry()\n",
    "    else:\n",
    "        return acknowledge_statement()\n",
    "\n",
    "# Main function for running the chatbot\n",
    "\n",
    "def main():\n",
    "    print(\"Welcome! How can I assist you today?\")\n",
    "    while True:\n",
    "        user_input = input(\"You: \")\n",
    "        if user_input.lower() == 'exit':\n",
    "            print(\"Chatbot: Goodbye!\")\n",
    "            break\n",
    "        else:\n",
    "            response = get_chatbot_response(user_input)\n",
    "            print(\"Chatbot:\", response)\n",
    "\n",
    "if __name__ == \"__main__\":\n",
    "    main()\n"
   ]
  },
  {
   "cell_type": "code",
   "execution_count": null,
   "id": "ca5f88c1-1c9e-47f3-ba01-12ac1874f59b",
   "metadata": {},
   "outputs": [],
   "source": []
  }
 ],
 "metadata": {
  "kernelspec": {
   "display_name": "Python 3 (ipykernel)",
   "language": "python",
   "name": "python3"
  },
  "language_info": {
   "codemirror_mode": {
    "name": "ipython",
    "version": 3
   },
   "file_extension": ".py",
   "mimetype": "text/x-python",
   "name": "python",
   "nbconvert_exporter": "python",
   "pygments_lexer": "ipython3",
   "version": "3.11.4"
  }
 },
 "nbformat": 4,
 "nbformat_minor": 5
}
