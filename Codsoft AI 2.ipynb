{
 "cells": [
  {
   "cell_type": "code",
   "execution_count": 3,
   "id": "a7f81829-456e-4152-aabc-6bd16360c4ed",
   "metadata": {},
   "outputs": [
    {
     "name": "stdout",
     "output_type": "stream",
     "text": [
      "-|-|-\n",
      "-|-|-\n",
      "-|-|-\n",
      "\n"
     ]
    },
    {
     "name": "stdin",
     "output_type": "stream",
     "text": [
      "Select your choice (1-9):  1\n"
     ]
    },
    {
     "name": "stdout",
     "output_type": "stream",
     "text": [
      "X|-|-\n",
      "-|O|-\n",
      "-|-|-\n",
      "\n"
     ]
    },
    {
     "name": "stdin",
     "output_type": "stream",
     "text": [
      "Select your choice (1-9):  3\n"
     ]
    },
    {
     "name": "stdout",
     "output_type": "stream",
     "text": [
      "X|O|X\n",
      "-|O|-\n",
      "-|-|-\n",
      "\n"
     ]
    },
    {
     "name": "stdin",
     "output_type": "stream",
     "text": [
      "Select your choice (1-9):  8\n"
     ]
    },
    {
     "name": "stdout",
     "output_type": "stream",
     "text": [
      "X|O|X\n",
      "O|O|-\n",
      "-|X|-\n",
      "\n"
     ]
    },
    {
     "name": "stdin",
     "output_type": "stream",
     "text": [
      "Select your choice (1-9):  6\n"
     ]
    },
    {
     "name": "stdout",
     "output_type": "stream",
     "text": [
      "X|O|X\n",
      "O|O|X\n",
      "-|X|O\n",
      "\n"
     ]
    },
    {
     "name": "stdin",
     "output_type": "stream",
     "text": [
      "Select your choice (1-9):  7\n"
     ]
    },
    {
     "name": "stdout",
     "output_type": "stream",
     "text": [
      "X|O|X\n",
      "O|O|X\n",
      "X|X|O\n",
      "\n",
      "It's a draw!\n"
     ]
    },
    {
     "name": "stdin",
     "output_type": "stream",
     "text": [
      "Do you want to play again? (yes/no):  NO\n"
     ]
    }
   ],
   "source": [
    "import math\n",
    "\n",
    "# Constants\n",
    "AI = 'O'\n",
    "YOU = 'X'\n",
    "EMPTY_CELL = '-'\n",
    "\n",
    "# Function to print the board\n",
    "def print_board(board):\n",
    "    for i in range(0, 9, 3):\n",
    "        print('|'.join(board[i:i+3]))\n",
    "    print()\n",
    "\n",
    "# Function to check for a winner\n",
    "def check_winner(board, player):\n",
    "    winning_combinations = [\n",
    "        [1, 2, 3], [4, 5, 6], [7, 8, 9],  # Rows\n",
    "        [1, 4, 7], [2, 5, 8], [3, 6, 9],  # Columns\n",
    "        [1, 5, 9], [3, 5, 7]              # Diagonals\n",
    "    ]\n",
    "    for combo in winning_combinations:\n",
    "        if all(board[i-1] == player for i in combo):\n",
    "            return True\n",
    "    return False\n",
    "\n",
    "# Function to check if the board is full\n",
    "def is_board_full(board):\n",
    "    return all(cell != EMPTY_CELL for cell in board)\n",
    "\n",
    "# Minimax algorithm with alpha-beta pruning\n",
    "def minimax_alpha_beta(board, depth, alpha, beta, maximizing_player):\n",
    "    if check_winner(board, AI):\n",
    "        return 1\n",
    "    elif check_winner(board, YOU):\n",
    "        return -1\n",
    "    elif is_board_full(board):\n",
    "        return 0\n",
    "\n",
    "    if maximizing_player:\n",
    "        max_eval = -math.inf\n",
    "        for i in range(1, 10):\n",
    "            if board[i-1] == EMPTY_CELL:\n",
    "                board[i-1] = AI\n",
    "                eval = minimax_alpha_beta(board, depth+1, alpha, beta, False)\n",
    "                board[i-1] = EMPTY_CELL\n",
    "                max_eval = max(max_eval, eval)\n",
    "                alpha = max(alpha, eval)\n",
    "                if beta <= alpha:\n",
    "                    break\n",
    "        return max_eval\n",
    "    else:\n",
    "        min_eval = math.inf\n",
    "        for i in range(1, 10):\n",
    "            if board[i-1] == EMPTY_CELL:\n",
    "                board[i-1] = YOU\n",
    "                eval = minimax_alpha_beta(board, depth+1, alpha, beta, True)\n",
    "                board[i-1] = EMPTY_CELL\n",
    "                min_eval = min(min_eval, eval)\n",
    "                beta = min(beta, eval)\n",
    "                if beta <= alpha:\n",
    "                    break\n",
    "        return min_eval\n",
    "\n",
    "# Function to find the best move for AI\n",
    "def find_best_move(board):\n",
    "    best_move = -1\n",
    "    best_eval = -math.inf\n",
    "    for i in range(1, 10):\n",
    "        if board[i-1] == EMPTY_CELL:\n",
    "            board[i-1] = AI\n",
    "            eval = minimax_alpha_beta(board, 0, -math.inf, math.inf, False)\n",
    "            board[i-1] = EMPTY_CELL\n",
    "            if eval > best_eval:\n",
    "                best_eval = eval\n",
    "                best_move = i\n",
    "    return best_move\n",
    "\n",
    "# Main game loop\n",
    "def main():\n",
    "    while True:\n",
    "        board = [EMPTY_CELL] * 9\n",
    "        while True:\n",
    "            print_board(board)\n",
    "            move = int(input(\"Select your choice (1-9): \"))\n",
    "            if 1 <= move <= 9 and board[move-1] == EMPTY_CELL:\n",
    "                board[move-1] = YOU\n",
    "                if check_winner(board, YOU):\n",
    "                    print_board(board)\n",
    "                    print(\"You win!\")\n",
    "                    break\n",
    "                elif is_board_full(board):\n",
    "                    print_board(board)\n",
    "                    print(\"It's a draw!\")\n",
    "                    break\n",
    "                ai_move = find_best_move(board)\n",
    "                board[ai_move-1] = AI\n",
    "                if check_winner(board, AI):\n",
    "                    print_board(board)\n",
    "                    print(\"AI wins!\")\n",
    "                    break\n",
    "                elif is_board_full(board):\n",
    "                    print_board(board)\n",
    "                    print(\"It's a draw!\")\n",
    "                    break\n",
    "            else:\n",
    "                print(\"Invalid move. Try again.\")\n",
    "       \n",
    "        replay = input(\"Do you want to play again? (yes/no): \")\n",
    "        if replay.lower() != 'yes':\n",
    "            break\n",
    "\n",
    "if __name__ == \"__main__\":\n",
    "    main()"
   ]
  },
  {
   "cell_type": "code",
   "execution_count": null,
   "id": "cfba8ddd-c149-498b-ad50-1def982062ae",
   "metadata": {},
   "outputs": [],
   "source": []
  }
 ],
 "metadata": {
  "kernelspec": {
   "display_name": "Python 3 (ipykernel)",
   "language": "python",
   "name": "python3"
  },
  "language_info": {
   "codemirror_mode": {
    "name": "ipython",
    "version": 3
   },
   "file_extension": ".py",
   "mimetype": "text/x-python",
   "name": "python",
   "nbconvert_exporter": "python",
   "pygments_lexer": "ipython3",
   "version": "3.11.4"
  }
 },
 "nbformat": 4,
 "nbformat_minor": 5
}
